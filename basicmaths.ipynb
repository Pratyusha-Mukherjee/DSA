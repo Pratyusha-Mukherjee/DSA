{
 "cells": [
  {
   "cell_type": "markdown",
   "metadata": {},
   "source": [
    "### Suppose i want to display all the numbers of a given number"
   ]
  },
  {
   "cell_type": "code",
   "execution_count": 1,
   "metadata": {},
   "outputs": [
    {
     "name": "stdout",
     "output_type": "stream",
     "text": [
      "4\n",
      "3\n",
      "2\n",
      "1\n"
     ]
    }
   ],
   "source": [
    "def print_num(n):\n",
    "    while n>0 :\n",
    "        lastdigit = n%10\n",
    "        print(lastdigit)\n",
    "        n = n//10\n",
    "\n",
    "num = int(input(\"enter the number:-\"))\n",
    "print_num(num)        "
   ]
  },
  {
   "cell_type": "markdown",
   "metadata": {},
   "source": [
    "### total number"
   ]
  },
  {
   "cell_type": "code",
   "execution_count": 2,
   "metadata": {},
   "outputs": [
    {
     "name": "stdout",
     "output_type": "stream",
     "text": [
      "4\n"
     ]
    }
   ],
   "source": [
    "def print_num(n):\n",
    "    count = 0\n",
    "    while n>0 :\n",
    "        lastdigit = n%10\n",
    "        n = n//10\n",
    "        count += 1\n",
    "    print(count)    \n",
    "\n",
    "num = int(input(\"enter the number:-\"))\n",
    "print_num(num)  "
   ]
  },
  {
   "cell_type": "markdown",
   "metadata": {},
   "source": [
    "### reverse a integer"
   ]
  },
  {
   "cell_type": "code",
   "execution_count": 3,
   "metadata": {},
   "outputs": [
    {
     "name": "stdout",
     "output_type": "stream",
     "text": [
      "41"
     ]
    }
   ],
   "source": [
    "def reverse(n):\n",
    "    while n>0:\n",
    "        reverse = n%10\n",
    "        n = n//10\n",
    "        if (reverse!=0):\n",
    "            print(reverse,end=\"\")\n",
    "\n",
    "reverse(10400)     "
   ]
  },
  {
   "cell_type": "code",
   "execution_count": 12,
   "metadata": {},
   "outputs": [
    {
     "name": "stdout",
     "output_type": "stream",
     "text": [
      "5401\n"
     ]
    }
   ],
   "source": [
    "def reverse(n):\n",
    "    reverse_num=0\n",
    "    while n>0:\n",
    "        lastdigit = n%10\n",
    "        reverse_num = (reverse_num*10) + lastdigit\n",
    "        n = n//10\n",
    "    if (reverse_num!=0):\n",
    "     print(reverse_num)\n",
    "\n",
    "reverse(104500)  "
   ]
  },
  {
   "cell_type": "markdown",
   "metadata": {},
   "source": [
    "### palindrome"
   ]
  },
  {
   "cell_type": "code",
   "execution_count": 14,
   "metadata": {},
   "outputs": [
    {
     "name": "stdout",
     "output_type": "stream",
     "text": [
      "Number is palindrome\n"
     ]
    }
   ],
   "source": [
    "def palindrome(n):\n",
    "    reverse_num=0\n",
    "    original_num=n\n",
    "    while n>0:\n",
    "        lastdigit = n%10\n",
    "        reverse_num = (reverse_num*10) + lastdigit\n",
    "        n = n//10\n",
    "    if (original_num==reverse_num):\n",
    "        print(\"Number is palindrome\")\n",
    "    else:\n",
    "        print(\"Number is not palindrome\")    \n",
    "\n",
    "palindrome(121)  "
   ]
  },
  {
   "cell_type": "code",
   "execution_count": 23,
   "metadata": {},
   "outputs": [
    {
     "name": "stdout",
     "output_type": "stream",
     "text": [
      "this is armstrong Number\n"
     ]
    }
   ],
   "source": [
    "import math\n",
    "def armstrong(n):\n",
    "    sum = 0\n",
    "    power = len(str(n))\n",
    "    original_num=n\n",
    "    while n>0 :\n",
    "        lastdigit = n%10\n",
    "        armstrong_num = pow(lastdigit,power)\n",
    "        sum = sum + armstrong_num\n",
    "        n = n//10\n",
    "       \n",
    "    if sum == original_num:\n",
    "           print(\"this is armstrong Number\")\n",
    "    else:\n",
    "            print(\"this is not armstrong Number\")\n",
    "\n",
    "armstrong(371)"
   ]
  },
  {
   "cell_type": "markdown",
   "metadata": {},
   "source": [
    "### divisors of a number"
   ]
  },
  {
   "cell_type": "code",
   "execution_count": 28,
   "metadata": {},
   "outputs": [
    {
     "name": "stdout",
     "output_type": "stream",
     "text": [
      "divisors are:-\n",
      "1\n",
      "2\n",
      "3\n",
      "4\n",
      "6\n",
      "9\n",
      "12\n",
      "18\n",
      "36\n"
     ]
    }
   ],
   "source": [
    "def divisors(n):\n",
    "    print(\"divisors are:-\")\n",
    "    for i in range(1,n+1):\n",
    "        if (n%i==0):\n",
    "            print(i)\n",
    "\n",
    "divisors(36)            \n"
   ]
  },
  {
   "cell_type": "code",
   "execution_count": 9,
   "metadata": {},
   "outputs": [
    {
     "name": "stdout",
     "output_type": "stream",
     "text": [
      "[1, 2, 3, 4, 6, 9, 12, 18, 36]\n"
     ]
    }
   ],
   "source": [
    "import math\n",
    "\n",
    "def divisors(n):\n",
    "    result = []\n",
    "    for i in range(1, int(math.sqrt(n)) + 1):\n",
    "        if n % i == 0:\n",
    "            result.append(i)  \n",
    "            if (n // i) != i:\n",
    "                result.append(n // i)  \n",
    "    result.sort()  \n",
    "    return result\n",
    "\n",
    "divisors_list = divisors(36)\n",
    "print(divisors_list)\n",
    "\n"
   ]
  },
  {
   "cell_type": "markdown",
   "metadata": {},
   "source": [
    "### sum of all divisors"
   ]
  },
  {
   "cell_type": "code",
   "execution_count": 10,
   "metadata": {},
   "outputs": [
    {
     "name": "stdout",
     "output_type": "stream",
     "text": [
      "91\n"
     ]
    }
   ],
   "source": [
    "import math\n",
    "\n",
    "def divisors(n):\n",
    "    result = []\n",
    "    for i in range(1, int(math.sqrt(n)) + 1):\n",
    "        if n % i == 0:\n",
    "            result.append(i)  \n",
    "            if (n // i) != i:\n",
    "                result.append(n // i)  \n",
    "    result.sort()  \n",
    "    return sum(result)\n",
    "\n",
    "sum = divisors(36)\n",
    "print(sum)"
   ]
  },
  {
   "cell_type": "markdown",
   "metadata": {},
   "source": [
    "### prime numbers"
   ]
  },
  {
   "cell_type": "code",
   "execution_count": 31,
   "metadata": {},
   "outputs": [
    {
     "name": "stdout",
     "output_type": "stream",
     "text": [
      "True\n"
     ]
    }
   ],
   "source": [
    "def prime(n):\n",
    "    if n <= 1:\n",
    "        print(\"False\")\n",
    "        return\n",
    "    \n",
    "    count = 0\n",
    "    for i in range(2, n):\n",
    "        if n % i == 0:\n",
    "            count += 1\n",
    "            break  \n",
    "    \n",
    "    if count == 0:  \n",
    "        print(\"True\")\n",
    "    else:\n",
    "        print(\"False\")\n",
    "\n",
    "\n",
    "prime(2)  \n",
    "\n"
   ]
  },
  {
   "cell_type": "code",
   "execution_count": 34,
   "metadata": {},
   "outputs": [
    {
     "name": "stdout",
     "output_type": "stream",
     "text": [
      "False\n"
     ]
    }
   ],
   "source": [
    "import math\n",
    "def prime(n):\n",
    "    count = 0\n",
    "    for i in range(2, int(math.sqrt(n)) + 1):\n",
    "        if n % i == 0:\n",
    "            count += 1\n",
    "            break\n",
    "        else:\n",
    "            count += 1\n",
    "            continue\n",
    "    if count == 0:  \n",
    "        print(\"True\")\n",
    "    else:\n",
    "        print(\"False\")\n",
    "\n",
    "prime(20)"
   ]
  },
  {
   "cell_type": "markdown",
   "metadata": {},
   "source": [
    "### GCD and HCF"
   ]
  },
  {
   "cell_type": "code",
   "execution_count": 37,
   "metadata": {},
   "outputs": [
    {
     "data": {
      "text/plain": [
       "1"
      ]
     },
     "execution_count": 37,
     "metadata": {},
     "output_type": "execute_result"
    }
   ],
   "source": [
    "def gcd(n1,n2):\n",
    "    g = 1\n",
    "    high = n1\n",
    "    if (n1>n2):\n",
    "        low = n2\n",
    "    else:\n",
    "        low = n1\n",
    "    for i in range(low,1,-1):\n",
    "        if (n1%i==0 and n2%i==0):\n",
    "            g = i\n",
    "            break\n",
    "        else:\n",
    "            pass\n",
    "    return g    \n",
    "\n",
    "gcd(11,13)"
   ]
  },
  {
   "cell_type": "code",
   "execution_count": 41,
   "metadata": {},
   "outputs": [
    {
     "data": {
      "text/plain": [
       "20"
      ]
     },
     "execution_count": 41,
     "metadata": {},
     "output_type": "execute_result"
    }
   ],
   "source": [
    "def gcd(n1, n2):\n",
    "    while n2 != 0:\n",
    "        n1, n2 = n2, n1 % n2  \n",
    "    return n1  \n",
    "\n",
    "gcd(20,40)               "
   ]
  }
 ],
 "metadata": {
  "kernelspec": {
   "display_name": "Python 3",
   "language": "python",
   "name": "python3"
  },
  "language_info": {
   "codemirror_mode": {
    "name": "ipython",
    "version": 3
   },
   "file_extension": ".py",
   "mimetype": "text/x-python",
   "name": "python",
   "nbconvert_exporter": "python",
   "pygments_lexer": "ipython3",
   "version": "3.11.4"
  }
 },
 "nbformat": 4,
 "nbformat_minor": 2
}
