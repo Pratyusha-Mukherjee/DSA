{
 "cells": [
  {
   "cell_type": "markdown",
   "metadata": {},
   "source": [
    "### Suppose i want to display all the numbers of a given number"
   ]
  },
  {
   "cell_type": "code",
   "execution_count": 1,
   "metadata": {},
   "outputs": [
    {
     "name": "stdout",
     "output_type": "stream",
     "text": [
      "4\n",
      "3\n",
      "2\n",
      "1\n"
     ]
    }
   ],
   "source": [
    "def print_num(n):\n",
    "    while n>0 :\n",
    "        lastdigit = n%10\n",
    "        print(lastdigit)\n",
    "        n = n//10\n",
    "\n",
    "num = int(input(\"enter the number:-\"))\n",
    "print_num(num)        "
   ]
  },
  {
   "cell_type": "markdown",
   "metadata": {},
   "source": [
    "### total number"
   ]
  },
  {
   "cell_type": "code",
   "execution_count": 2,
   "metadata": {},
   "outputs": [
    {
     "name": "stdout",
     "output_type": "stream",
     "text": [
      "4\n"
     ]
    }
   ],
   "source": [
    "def print_num(n):\n",
    "    count = 0\n",
    "    while n>0 :\n",
    "        lastdigit = n%10\n",
    "        n = n//10\n",
    "        count += 1\n",
    "    print(count)    \n",
    "\n",
    "num = int(input(\"enter the number:-\"))\n",
    "print_num(num)  "
   ]
  },
  {
   "cell_type": "markdown",
   "metadata": {},
   "source": [
    "### reverse a integer"
   ]
  },
  {
   "cell_type": "code",
   "execution_count": 3,
   "metadata": {},
   "outputs": [
    {
     "name": "stdout",
     "output_type": "stream",
     "text": [
      "41"
     ]
    }
   ],
   "source": [
    "def reverse(n):\n",
    "    while n>0:\n",
    "        reverse = n%10\n",
    "        n = n//10\n",
    "        if (reverse!=0):\n",
    "            print(reverse,end=\"\")\n",
    "\n",
    "reverse(10400)     "
   ]
  },
  {
   "cell_type": "code",
   "execution_count": 7,
   "metadata": {},
   "outputs": [
    {
     "ename": "UnboundLocalError",
     "evalue": "cannot access local variable 'reverse_num' where it is not associated with a value",
     "output_type": "error",
     "traceback": [
      "\u001b[1;31m---------------------------------------------------------------------------\u001b[0m",
      "\u001b[1;31mUnboundLocalError\u001b[0m                         Traceback (most recent call last)",
      "Cell \u001b[1;32mIn[7], line 9\u001b[0m\n\u001b[0;32m      6\u001b[0m         \u001b[38;5;66;03m# if (reverse_num!=0):\u001b[39;00m\n\u001b[0;32m      7\u001b[0m     \u001b[38;5;28mprint\u001b[39m(reverse_num)\n\u001b[1;32m----> 9\u001b[0m \u001b[43mreverse\u001b[49m\u001b[43m(\u001b[49m\u001b[38;5;241;43m12345\u001b[39;49m\u001b[43m)\u001b[49m  \n",
      "Cell \u001b[1;32mIn[7], line 4\u001b[0m, in \u001b[0;36mreverse\u001b[1;34m(n)\u001b[0m\n\u001b[0;32m      2\u001b[0m \u001b[38;5;28;01mwhile\u001b[39;00m n\u001b[38;5;241m>\u001b[39m\u001b[38;5;241m0\u001b[39m:\n\u001b[0;32m      3\u001b[0m     lastdigit \u001b[38;5;241m=\u001b[39m n\u001b[38;5;241m%\u001b[39m\u001b[38;5;241m10\u001b[39m\n\u001b[1;32m----> 4\u001b[0m     reverse_num \u001b[38;5;241m=\u001b[39m (\u001b[43mreverse_num\u001b[49m\u001b[38;5;241m*\u001b[39m\u001b[38;5;241m10\u001b[39m) \u001b[38;5;241m+\u001b[39m lastdigit\n\u001b[0;32m      5\u001b[0m     n \u001b[38;5;241m=\u001b[39m n\u001b[38;5;241m/\u001b[39m\u001b[38;5;241m/\u001b[39m\u001b[38;5;241m10\u001b[39m\n\u001b[0;32m      6\u001b[0m     \u001b[38;5;66;03m# if (reverse_num!=0):\u001b[39;00m\n",
      "\u001b[1;31mUnboundLocalError\u001b[0m: cannot access local variable 'reverse_num' where it is not associated with a value"
     ]
    }
   ],
   "source": [
    "def reverse(n):\n",
    "    while n>0:\n",
    "        lastdigit = n%10\n",
    "        reverse_num = (reverse_num*10) + lastdigit\n",
    "        n = n//10\n",
    "        # if (reverse_num!=0):\n",
    "    print(reverse_num)\n",
    "\n",
    "reverse(12345)  "
   ]
  }
 ],
 "metadata": {
  "kernelspec": {
   "display_name": "Python 3",
   "language": "python",
   "name": "python3"
  },
  "language_info": {
   "codemirror_mode": {
    "name": "ipython",
    "version": 3
   },
   "file_extension": ".py",
   "mimetype": "text/x-python",
   "name": "python",
   "nbconvert_exporter": "python",
   "pygments_lexer": "ipython3",
   "version": "3.11.4"
  }
 },
 "nbformat": 4,
 "nbformat_minor": 2
}
