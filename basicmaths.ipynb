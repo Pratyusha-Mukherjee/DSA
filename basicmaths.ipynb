{
 "cells": [
  {
   "cell_type": "markdown",
   "metadata": {},
   "source": [
    "### Suppose i want to display all the numbers of a given number"
   ]
  },
  {
   "cell_type": "code",
   "execution_count": 1,
   "metadata": {},
   "outputs": [
    {
     "name": "stdout",
     "output_type": "stream",
     "text": [
      "4\n",
      "3\n",
      "2\n",
      "1\n"
     ]
    }
   ],
   "source": [
    "def print_num(n):\n",
    "    while n>0 :\n",
    "        lastdigit = n%10\n",
    "        print(lastdigit)\n",
    "        n = n//10\n",
    "\n",
    "num = int(input(\"enter the number:-\"))\n",
    "print_num(num)        "
   ]
  },
  {
   "cell_type": "markdown",
   "metadata": {},
   "source": [
    "### total number"
   ]
  },
  {
   "cell_type": "code",
   "execution_count": 2,
   "metadata": {},
   "outputs": [
    {
     "name": "stdout",
     "output_type": "stream",
     "text": [
      "4\n"
     ]
    }
   ],
   "source": [
    "def print_num(n):\n",
    "    count = 0\n",
    "    while n>0 :\n",
    "        lastdigit = n%10\n",
    "        n = n//10\n",
    "        count += 1\n",
    "    print(count)    \n",
    "\n",
    "num = int(input(\"enter the number:-\"))\n",
    "print_num(num)  "
   ]
  },
  {
   "cell_type": "markdown",
   "metadata": {},
   "source": [
    "### reverse a integer"
   ]
  },
  {
   "cell_type": "code",
   "execution_count": 3,
   "metadata": {},
   "outputs": [
    {
     "name": "stdout",
     "output_type": "stream",
     "text": [
      "41"
     ]
    }
   ],
   "source": [
    "def reverse(n):\n",
    "    while n>0:\n",
    "        reverse = n%10\n",
    "        n = n//10\n",
    "        if (reverse!=0):\n",
    "            print(reverse,end=\"\")\n",
    "\n",
    "reverse(10400)     "
   ]
  },
  {
   "cell_type": "code",
   "execution_count": 12,
   "metadata": {},
   "outputs": [
    {
     "name": "stdout",
     "output_type": "stream",
     "text": [
      "5401\n"
     ]
    }
   ],
   "source": [
    "def reverse(n):\n",
    "    reverse_num=0\n",
    "    while n>0:\n",
    "        lastdigit = n%10\n",
    "        reverse_num = (reverse_num*10) + lastdigit\n",
    "        n = n//10\n",
    "    if (reverse_num!=0):\n",
    "     print(reverse_num)\n",
    "\n",
    "reverse(104500)  "
   ]
  },
  {
   "cell_type": "markdown",
   "metadata": {},
   "source": [
    "### palindrome"
   ]
  },
  {
   "cell_type": "code",
   "execution_count": 14,
   "metadata": {},
   "outputs": [
    {
     "name": "stdout",
     "output_type": "stream",
     "text": [
      "Number is palindrome\n"
     ]
    }
   ],
   "source": [
    "def palindrome(n):\n",
    "    reverse_num=0\n",
    "    original_num=n\n",
    "    while n>0:\n",
    "        lastdigit = n%10\n",
    "        reverse_num = (reverse_num*10) + lastdigit\n",
    "        n = n//10\n",
    "    if (original_num==reverse_num):\n",
    "        print(\"Number is palindrome\")\n",
    "    else:\n",
    "        print(\"Number is not palindrome\")    \n",
    "\n",
    "palindrome(121)  "
   ]
  },
  {
   "cell_type": "code",
   "execution_count": 23,
   "metadata": {},
   "outputs": [
    {
     "name": "stdout",
     "output_type": "stream",
     "text": [
      "this is armstrong Number\n"
     ]
    }
   ],
   "source": [
    "import math\n",
    "def armstrong(n):\n",
    "    sum = 0\n",
    "    power = len(str(n))\n",
    "    original_num=n\n",
    "    while n>0 :\n",
    "        lastdigit = n%10\n",
    "        armstrong_num = pow(lastdigit,power)\n",
    "        sum = sum + armstrong_num\n",
    "        n = n//10\n",
    "       \n",
    "    if sum == original_num:\n",
    "           print(\"this is armstrong Number\")\n",
    "    else:\n",
    "            print(\"this is not armstrong Number\")\n",
    "\n",
    "armstrong(371)"
   ]
  },
  {
   "cell_type": "markdown",
   "metadata": {},
   "source": [
    "### divisors of a number"
   ]
  },
  {
   "cell_type": "code",
   "execution_count": 28,
   "metadata": {},
   "outputs": [
    {
     "name": "stdout",
     "output_type": "stream",
     "text": [
      "divisors are:-\n",
      "1\n",
      "2\n",
      "3\n",
      "4\n",
      "6\n",
      "9\n",
      "12\n",
      "18\n",
      "36\n"
     ]
    }
   ],
   "source": [
    "def divisors(n):\n",
    "    print(\"divisors are:-\")\n",
    "    for i in range(1,n+1):\n",
    "        if (n%i==0):\n",
    "            print(i)\n",
    "\n",
    "divisors(36)            \n"
   ]
  }
 ],
 "metadata": {
  "kernelspec": {
   "display_name": "Python 3",
   "language": "python",
   "name": "python3"
  },
  "language_info": {
   "codemirror_mode": {
    "name": "ipython",
    "version": 3
   },
   "file_extension": ".py",
   "mimetype": "text/x-python",
   "name": "python",
   "nbconvert_exporter": "python",
   "pygments_lexer": "ipython3",
   "version": "3.11.4"
  }
 },
 "nbformat": 4,
 "nbformat_minor": 2
}
