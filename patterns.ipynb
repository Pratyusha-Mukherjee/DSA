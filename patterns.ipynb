{
 "cells": [
  {
   "cell_type": "code",
   "execution_count": 2,
   "metadata": {},
   "outputs": [
    {
     "name": "stdout",
     "output_type": "stream",
     "text": [
      "* * * * * * * \n",
      "\n",
      "* * * * * * * \n",
      "\n",
      "* * * * * * * \n",
      "\n",
      "* * * * * * * \n",
      "\n",
      "* * * * * * * \n",
      "\n",
      "* * * * * * * \n",
      "\n",
      "* * * * * * * \n",
      "\n"
     ]
    }
   ],
   "source": [
    "def printdata(n):\n",
    "    for i in range (n-1):\n",
    "            for j in range (n-1):\n",
    "                print(\"*\",end=\" \")\n",
    "            print(\"\\n\")\n",
    "\n",
    "n = int(input(\"Enter the no :-\"))\n",
    "printdata(n)        \n"
   ]
  },
  {
   "cell_type": "code",
   "execution_count": 3,
   "metadata": {},
   "outputs": [
    {
     "name": "stdout",
     "output_type": "stream",
     "text": [
      "\n",
      "*  \n",
      "*  *  \n",
      "*  *  *  \n",
      "*  *  *  *  \n"
     ]
    }
   ],
   "source": [
    "def nForest(n:int) ->None:\n",
    "    for i in range(n):\n",
    "        for j in range(1,i+1):\n",
    "            print(\"* \",end=\" \")\n",
    "        print()    \n",
    "    pass\n",
    "\n",
    "nForest(5)"
   ]
  },
  {
   "cell_type": "code",
   "execution_count": 7,
   "metadata": {},
   "outputs": [
    {
     "name": "stdout",
     "output_type": "stream",
     "text": [
      "1 \n",
      "1 2 \n",
      "1 2 3 \n",
      "1 2 3 4 \n",
      "1 2 3 4 5 \n"
     ]
    }
   ],
   "source": [
    "def nForest(n:int) ->None:\n",
    "    for i in range(1,n+1):\n",
    "        for j in range(1,i+1):\n",
    "            print(j,end=\" \")\n",
    "        print()    \n",
    "    pass\n",
    "\n",
    "nForest(5)"
   ]
  },
  {
   "cell_type": "code",
   "execution_count": 9,
   "metadata": {},
   "outputs": [
    {
     "name": "stdout",
     "output_type": "stream",
     "text": [
      "1 \n",
      "2 2 \n",
      "3 3 3 \n",
      "4 4 4 4 \n",
      "5 5 5 5 5 \n"
     ]
    }
   ],
   "source": [
    "def nTriangle(n:int) ->None:\n",
    "     for i in range(1,n+1):\n",
    "        for j in range(1,i+1):\n",
    "            print(i,end=\" \")\n",
    "        print()    \n",
    "     pass\n",
    "\n",
    "nForest(5)"
   ]
  },
  {
   "cell_type": "code",
   "execution_count": 4,
   "metadata": {},
   "outputs": [
    {
     "name": "stdout",
     "output_type": "stream",
     "text": [
      "* * * * * * \n",
      "* * * * * \n",
      "* * * * \n",
      "* * * \n",
      "* * \n",
      "* \n"
     ]
    }
   ],
   "source": [
    "def reverse(n):\n",
    "    for i in range(n,0,-1):\n",
    "        for j in range(i):\n",
    "            print(\"*\",end=\" \")\n",
    "        print()    \n",
    "    pass\n",
    "\n",
    "reverse(6)"
   ]
  },
  {
   "cell_type": "code",
   "execution_count": 5,
   "metadata": {},
   "outputs": [
    {
     "name": "stdout",
     "output_type": "stream",
     "text": [
      "* * * * * \n",
      "* * * * \n",
      "* * * \n",
      "* * \n",
      "* \n",
      "\n"
     ]
    }
   ],
   "source": [
    "def reverse(n):\n",
    "    for i in range(1,n+1):\n",
    "        for j in range(1,n-i+1):\n",
    "            print(\"*\",end=\" \")\n",
    "        print()    \n",
    "    pass\n",
    "\n",
    "reverse(6)"
   ]
  },
  {
   "cell_type": "code",
   "execution_count": 26,
   "metadata": {},
   "outputs": [
    {
     "name": "stdout",
     "output_type": "stream",
     "text": [
      "        * \n",
      "      * * * \n",
      "    * * * * * \n",
      "  * * * * * * * \n",
      "* * * * * * * * * \n"
     ]
    }
   ],
   "source": [
    "def triangle(n):\n",
    "    for i in range(0, n):\n",
    "        # Printing leading spaces\n",
    "        for j in range(0, n-i-1):\n",
    "            print(\" \", end=\" \")\n",
    "        \n",
    "        # Printing stars\n",
    "        for j in range(0, 2*i+1):\n",
    "            print(\"*\", end=\" \")\n",
    "        \n",
    "        print()  # Move to the next line after each row\n",
    "\n",
    "triangle(5)\n"
   ]
  },
  {
   "cell_type": "code",
   "execution_count": 21,
   "metadata": {},
   "outputs": [
    {
     "name": "stdout",
     "output_type": "stream",
     "text": [
      "* * * * * * * * * \n",
      "  * * * * * * *   \n",
      "    * * * * *     \n",
      "      * * *       \n",
      "        *         \n"
     ]
    }
   ],
   "source": [
    "def triangle(n):\n",
    "    for i in range(0, n):\n",
    "        # Printing leading spaces\n",
    "        for j in range(0, i):\n",
    "            print(\" \", end=\" \")\n",
    "        \n",
    "        # Printing stars\n",
    "        for j in range(0,2*n-(2*i+1)):\n",
    "            print(\"*\", end=\" \")\n",
    "\n",
    "        for j in range(0, i):\n",
    "            print(\" \", end=\" \")    \n",
    "        \n",
    "        print()  # Move to the next line after each row\n",
    "\n",
    "triangle(5)"
   ]
  },
  {
   "cell_type": "code",
   "execution_count": 27,
   "metadata": {},
   "outputs": [
    {
     "name": "stdout",
     "output_type": "stream",
     "text": [
      "        * \n",
      "      * * * \n",
      "    * * * * * \n",
      "  * * * * * * * \n",
      "* * * * * * * * * \n",
      "* * * * * * * * * \n",
      "  * * * * * * *   \n",
      "    * * * * *     \n",
      "      * * *       \n",
      "        *         \n"
     ]
    }
   ],
   "source": [
    "def uppertriangle(n):\n",
    "    for i in range(0, n):\n",
    "        # Printing leading spaces\n",
    "        for j in range(0, n-i-1):\n",
    "            print(\" \", end=\" \")\n",
    "        \n",
    "        # Printing stars\n",
    "        for j in range(0, 2*i+1):\n",
    "            print(\"*\", end=\" \")\n",
    "        \n",
    "\n",
    "        print() \n",
    "\n",
    "def lowertriangle(n):\n",
    "    for i in range(0, n):\n",
    "        # Printing leading spaces\n",
    "        for j in range(0, i):\n",
    "            print(\" \", end=\" \")\n",
    "        \n",
    "        # Printing stars\n",
    "        for j in range(0,2*n-(2*i+1)):\n",
    "            print(\"*\", end=\" \")\n",
    "\n",
    "        for j in range(0, i):\n",
    "            print(\" \", end=\" \")    \n",
    "        \n",
    "        print()          \n",
    "\n",
    "uppertriangle(5)\n",
    "lowertriangle(5)\n",
    "        "
   ]
  },
  {
   "cell_type": "code",
   "execution_count": 31,
   "metadata": {},
   "outputs": [
    {
     "name": "stdout",
     "output_type": "stream",
     "text": [
      "        *     \n",
      "      * * *    \n",
      "    * * * * *   \n",
      "  * * * * * * *  \n",
      "* * * * * * * * * \n"
     ]
    }
   ],
   "source": [
    "def uppertriangle(n):\n",
    "    for i in range(0, n):\n",
    "        # Printing leading spaces\n",
    "        for j in range(0, n-i-1):\n",
    "            print(\" \", end=\" \")\n",
    "        \n",
    "        # Printing stars\n",
    "        for j in range(0, 2*i+1):\n",
    "            print(\"*\", end=\" \")\n",
    "\n",
    "        for j in range(0, n-i-1):\n",
    "            print(\" \", end=\"\")    \n",
    "        \n",
    "\n",
    "        print() \n",
    "\n",
    "uppertriangle(5)        "
   ]
  },
  {
   "cell_type": "code",
   "execution_count": 32,
   "metadata": {},
   "outputs": [
    {
     "name": "stdout",
     "output_type": "stream",
     "text": [
      "        * \n",
      "      * * * \n",
      "    * * * * * \n",
      "  * * * * * * * \n",
      "* * * * * * * * * \n",
      "* * * * * * * * * \n",
      "  * * * * * * * \n",
      "    * * * * * \n",
      "      * * * \n",
      "        * \n"
     ]
    }
   ],
   "source": [
    "def fullTriangle(n):\n",
    "    # Upper triangle (increasing part)\n",
    "    for i in range(0, n):\n",
    "        # Printing leading spaces\n",
    "        for j in range(0, n-i-1):\n",
    "            print(\" \", end=\" \")\n",
    "\n",
    "        # Printing stars\n",
    "        for j in range(0, 2*i+1):\n",
    "            print(\"*\", end=\" \")\n",
    "\n",
    "        print()\n",
    "\n",
    "    # Lower triangle (decreasing part)\n",
    "    for i in range(0, n):\n",
    "        # Printing leading spaces\n",
    "        for j in range(0, i):\n",
    "            print(\" \", end=\" \")\n",
    "\n",
    "        # Printing stars\n",
    "        for j in range(0, 2*n-(2*i+1)):\n",
    "            print(\"*\", end=\" \")\n",
    "\n",
    "        print()\n",
    "\n",
    "# Calling the function\n",
    "fullTriangle(5)\n"
   ]
  },
  {
   "cell_type": "code",
   "execution_count": 56,
   "metadata": {},
   "outputs": [
    {
     "name": "stdout",
     "output_type": "stream",
     "text": [
      "*\n",
      "**\n",
      "***\n",
      "**\n",
      "*\n"
     ]
    }
   ],
   "source": [
    "def triangle(n):\n",
    "    for i in range(0, 2*n-1):\n",
    "        if i < n:\n",
    "            stars = i + 1  # Increasing part\n",
    "        else:\n",
    "            stars = 2*n - i - 1  # Decreasing part\n",
    "        \n",
    "        # Print stars followed by a space\n",
    "        for j in range(stars):\n",
    "            print(\"*\", end=\"\")\n",
    "        \n",
    "        print()  # Move to the next line after each row\n",
    "\n",
    "# Call the function with n = 3\n",
    "triangle(3)\n"
   ]
  },
  {
   "cell_type": "code",
   "execution_count": 66,
   "metadata": {},
   "outputs": [
    {
     "name": "stdout",
     "output_type": "stream",
     "text": [
      "1 \n",
      "0 1 \n",
      "1 0 1 \n",
      "0 1 0 1 \n",
      "1 0 1 0 1 \n"
     ]
    }
   ],
   "source": [
    "def nForest(n:int) ->None:\n",
    "    for i in range(1,n+1):\n",
    "        for j in range(1,i+1):\n",
    "            if ((i+j)%2==0):\n",
    "                print(1,end=\" \")\n",
    "            else:\n",
    "                print(0,end=\" \")\n",
    "        print()    \n",
    "    pass\n",
    "\n",
    "nForest(5)"
   ]
  },
  {
   "cell_type": "code",
   "execution_count": 93,
   "metadata": {},
   "outputs": [
    {
     "name": "stdout",
     "output_type": "stream",
     "text": [
      "1                 1 \n",
      "1 2             2 1 \n",
      "1 2 3         3 2 1 \n",
      "1 2 3 4     4 3 2 1 \n",
      "1 2 3 4 5 5 4 3 2 1 \n"
     ]
    }
   ],
   "source": [
    "def nForest(n: int) -> None:\n",
    "   space = 2 * (n - 1)  \n",
    "   for  i in range(1, n + 1):\n",
    "  \n",
    "        for j in range(1, i + 1):\n",
    "            print(j, end=\" \")\n",
    "\n",
    "      \n",
    "        for j in range(space):\n",
    "            print(\" \", end=\" \")\n",
    "\n",
    "        \n",
    "        for j in range(i, 0, -1):\n",
    "            print(j, end=\" \")\n",
    "\n",
    "        print()  \n",
    "\n",
    "        space -= 2   \n",
    "\n",
    "\n",
    "nForest(5)\n",
    "        \n",
    "       \n",
    "\n",
    "    \n",
    "\n"
   ]
  },
  {
   "cell_type": "code",
   "execution_count": 105,
   "metadata": {},
   "outputs": [
    {
     "name": "stdout",
     "output_type": "stream",
     "text": [
      "1 \n",
      "2 3 \n",
      "4 5 6 \n",
      "7 8 9 10 \n"
     ]
    }
   ],
   "source": [
    "def pattern(n):\n",
    "    count = 1 \n",
    "    for i in range(1,n+1):\n",
    "        for j in range(1,i+1):\n",
    "            print(count, end=\" \")\n",
    "            count = count+1\n",
    "        print()   \n",
    "\n",
    "pattern(4)         "
   ]
  },
  {
   "cell_type": "code",
   "execution_count": 115,
   "metadata": {},
   "outputs": [
    {
     "name": "stdout",
     "output_type": "stream",
     "text": [
      "A \n",
      "A B \n",
      "A B C \n",
      "A B C D \n",
      "A B C D E \n"
     ]
    }
   ],
   "source": [
    "\n",
    "\n",
    "\n",
    "def pattern(n):\n",
    "    for i in range(1,n+1):\n",
    "        for j in range(65,65+i):\n",
    "            print(chr(j), end=\" \")\n",
    "        print()   \n",
    "\n",
    "pattern(5)"
   ]
  },
  {
   "cell_type": "code",
   "execution_count": 117,
   "metadata": {},
   "outputs": [
    {
     "name": "stdout",
     "output_type": "stream",
     "text": [
      "A B C D E \n",
      "A B C D \n",
      "A B C \n",
      "A B \n",
      "A \n"
     ]
    }
   ],
   "source": [
    "\n",
    "def pattern(n):\n",
    "    for i in range(n,0,-1):\n",
    "        for j in range(65,65+i):\n",
    "            print(chr(j), end=\" \")\n",
    "        print()  \n",
    "\n",
    "pattern(5)        "
   ]
  },
  {
   "cell_type": "code",
   "execution_count": 122,
   "metadata": {},
   "outputs": [
    {
     "name": "stdout",
     "output_type": "stream",
     "text": [
      "A\n",
      "B B\n",
      "C C C\n",
      "D D D D\n",
      "E E E E E\n"
     ]
    }
   ],
   "source": [
    "def letter_pattern(n: int):\n",
    "    for i in range(1, n+1):\n",
    "        letter = chr(64 + i) \n",
    "        print(' '.join([letter] * i))\n",
    "letter_pattern(5)\n"
   ]
  },
  {
   "cell_type": "code",
   "execution_count": null,
   "metadata": {},
   "outputs": [],
   "source": []
  },
  {
   "cell_type": "code",
   "execution_count": 123,
   "metadata": {},
   "outputs": [
    {
     "name": "stdout",
     "output_type": "stream",
     "text": [
      "E \n",
      "D E \n",
      "C D E \n",
      "B C D E \n",
      "A B C D E \n"
     ]
    }
   ],
   "source": [
    "def pattern(n):\n",
    "    \n",
    "    for i in range(n):\n",
    "        \n",
    "        for j in range(n- 1 - i, n):\n",
    "           \n",
    "            print(chr(65 + j), end=\" \")\n",
    "        \n",
    "        print()\n",
    "\n",
    "\n",
    "pattern(5)\n"
   ]
  },
  {
   "cell_type": "code",
   "execution_count": 124,
   "metadata": {},
   "outputs": [
    {
     "name": "stdout",
     "output_type": "stream",
     "text": [
      "\n",
      "E \n",
      "E D \n",
      "E D C \n",
      "E D C B \n"
     ]
    }
   ],
   "source": [
    "def pattern(n):\n",
    "    \n",
    "    for i in range(n):\n",
    "        \n",
    "        for j in range(n-1,n- 1 - i, -1):\n",
    "           \n",
    "            print(chr(65 + j), end=\" \")\n",
    "        \n",
    "        print()\n",
    "\n",
    "\n",
    "pattern(5)"
   ]
  },
  {
   "cell_type": "code",
   "execution_count": 7,
   "metadata": {},
   "outputs": [
    {
     "name": "stdout",
     "output_type": "stream",
     "text": [
      "**************\n",
      "******  ******\n",
      "*****    *****\n",
      "****      ****\n",
      "***        ***\n",
      "**          **\n",
      "*            *\n"
     ]
    }
   ],
   "source": [
    "def pattern19(n):\n",
    "    iniS = 0\n",
    "    for i in range(n):\n",
    "        # Printing the stars in the row.\n",
    "        for j in range(n - i):\n",
    "            print(\"*\", end=\"\")\n",
    "\n",
    "        # Printing the spaces in the row.\n",
    "        for j in range(iniS):\n",
    "            print(\" \", end=\"\")\n",
    "\n",
    "        # Printing the stars in the row.\n",
    "        for j in range(n - i):\n",
    "            print(\"*\", end=\"\")\n",
    "\n",
    "        # The spaces increase by 2 every time we hit a new row.\n",
    "        iniS += 2\n",
    "\n",
    "        # Move to the next row.\n",
    "        print()\n",
    "\n",
    "\n",
    "\n",
    "\n",
    "pattern19(7)    "
   ]
  }
 ],
 "metadata": {
  "kernelspec": {
   "display_name": "Python 3",
   "language": "python",
   "name": "python3"
  },
  "language_info": {
   "codemirror_mode": {
    "name": "ipython",
    "version": 3
   },
   "file_extension": ".py",
   "mimetype": "text/x-python",
   "name": "python",
   "nbconvert_exporter": "python",
   "pygments_lexer": "ipython3",
   "version": "3.11.4"
  }
 },
 "nbformat": 4,
 "nbformat_minor": 2
}
